{
  "nbformat": 4,
  "nbformat_minor": 0,
  "metadata": {
    "colab": {
      "name": "mlp_com_keras.ipynb",
      "version": "0.3.2",
      "provenance": [],
      "include_colab_link": true
    },
    "kernelspec": {
      "name": "python3",
      "display_name": "Python 3"
    }
  },
  "cells": [
    {
      "cell_type": "markdown",
      "metadata": {
        "id": "view-in-github",
        "colab_type": "text"
      },
      "source": [
        "[View in Colaboratory](https://colab.research.google.com/github/lariskelmer/mlp/blob/master/mlp_com_keras.ipynb)"
      ]
    },
    {
      "metadata": {
        "id": "igGTezQmE6f6",
        "colab_type": "code",
        "outputId": "a820dacf-4195-4d9e-d4ba-20e3de2cc7ec",
        "colab": {
          "base_uri": "https://localhost:8080/",
          "height": 35
        }
      },
      "cell_type": "code",
      "source": [
        "import keras\n",
        "from keras.models import Sequential\n",
        "from keras.layers import Dense, Dropout, Activation\n",
        "from keras.optimizers import adam\n",
        "import numpy as np\n",
        "import pandas as pd\n",
        "import os\n",
        "import tarfile\n",
        "from six.moves import urllib\n",
        "\n",
        "FILE_TO_DOWNLOAD =  \"arucoRobo.csv\"\n",
        "DOWNLOAD_ROOT = \"https://raw.githubusercontent.com/lariskelmer/\"\n",
        "DATA_PATH = \"mlp/master/\"\n",
        "DATA_URL = DOWNLOAD_ROOT + DATA_PATH + FILE_TO_DOWNLOAD\n",
        "\n",
        "def fetch_data(data_url=DATA_URL, data_path=DATA_PATH, file_to_download=FILE_TO_DOWNLOAD):  \n",
        "  if not os.path.isdir(data_path):\n",
        "    os.makedirs(data_path)\n",
        "  urllib.request.urlretrieve(data_url, data_path+file_to_download)\n",
        "\n",
        "fetch_data()\n",
        "  \n",
        "!ls mlp"
      ],
      "execution_count": 239,
      "outputs": [
        {
          "output_type": "stream",
          "text": [
            "arucoRobo.csv  master  raw\n"
          ],
          "name": "stdout"
        }
      ]
    },
    {
      "metadata": {
        "id": "SHRiPMYukO-m",
        "colab_type": "code",
        "colab": {
          "base_uri": "https://localhost:8080/",
          "height": 206
        },
        "outputId": "56d5c930-6b6d-4bde-c5a7-b1c2ee8ab0a1"
      },
      "cell_type": "code",
      "source": [
        "dataset = pd.read_csv(DATA_PATH + 'arucoRobo.csv')\n",
        "dataset.head()\n"
      ],
      "execution_count": 240,
      "outputs": [
        {
          "output_type": "execute_result",
          "data": {
            "text/html": [
              "<div>\n",
              "<style scoped>\n",
              "    .dataframe tbody tr th:only-of-type {\n",
              "        vertical-align: middle;\n",
              "    }\n",
              "\n",
              "    .dataframe tbody tr th {\n",
              "        vertical-align: top;\n",
              "    }\n",
              "\n",
              "    .dataframe thead th {\n",
              "        text-align: right;\n",
              "    }\n",
              "</style>\n",
              "<table border=\"1\" class=\"dataframe\">\n",
              "  <thead>\n",
              "    <tr style=\"text-align: right;\">\n",
              "      <th></th>\n",
              "      <th>Unnamed: 0</th>\n",
              "      <th>anguloEntreRoboTarget</th>\n",
              "      <th>distancia</th>\n",
              "      <th>va</th>\n",
              "      <th>vb</th>\n",
              "      <th>sa</th>\n",
              "      <th>sb</th>\n",
              "      <th>robo_vector</th>\n",
              "      <th>target_point</th>\n",
              "    </tr>\n",
              "  </thead>\n",
              "  <tbody>\n",
              "    <tr>\n",
              "      <th>0</th>\n",
              "      <td>0</td>\n",
              "      <td>67</td>\n",
              "      <td>73</td>\n",
              "      <td>0</td>\n",
              "      <td>1</td>\n",
              "      <td>61</td>\n",
              "      <td>45</td>\n",
              "      <td>396</td>\n",
              "      <td>257</td>\n",
              "    </tr>\n",
              "    <tr>\n",
              "      <th>1</th>\n",
              "      <td>1</td>\n",
              "      <td>67</td>\n",
              "      <td>73</td>\n",
              "      <td>0</td>\n",
              "      <td>1</td>\n",
              "      <td>61</td>\n",
              "      <td>45</td>\n",
              "      <td>396</td>\n",
              "      <td>257</td>\n",
              "    </tr>\n",
              "    <tr>\n",
              "      <th>2</th>\n",
              "      <td>2</td>\n",
              "      <td>67</td>\n",
              "      <td>73</td>\n",
              "      <td>0</td>\n",
              "      <td>1</td>\n",
              "      <td>61</td>\n",
              "      <td>45</td>\n",
              "      <td>396</td>\n",
              "      <td>257</td>\n",
              "    </tr>\n",
              "    <tr>\n",
              "      <th>3</th>\n",
              "      <td>3</td>\n",
              "      <td>67</td>\n",
              "      <td>73</td>\n",
              "      <td>0</td>\n",
              "      <td>1</td>\n",
              "      <td>61</td>\n",
              "      <td>45</td>\n",
              "      <td>396</td>\n",
              "      <td>257</td>\n",
              "    </tr>\n",
              "    <tr>\n",
              "      <th>4</th>\n",
              "      <td>4</td>\n",
              "      <td>67</td>\n",
              "      <td>73</td>\n",
              "      <td>0</td>\n",
              "      <td>1</td>\n",
              "      <td>61</td>\n",
              "      <td>45</td>\n",
              "      <td>396</td>\n",
              "      <td>257</td>\n",
              "    </tr>\n",
              "  </tbody>\n",
              "</table>\n",
              "</div>"
            ],
            "text/plain": [
              "   Unnamed: 0  anguloEntreRoboTarget  distancia  va  vb  sa  sb  robo_vector  \\\n",
              "0           0                     67         73   0   1  61  45          396   \n",
              "1           1                     67         73   0   1  61  45          396   \n",
              "2           2                     67         73   0   1  61  45          396   \n",
              "3           3                     67         73   0   1  61  45          396   \n",
              "4           4                     67         73   0   1  61  45          396   \n",
              "\n",
              "   target_point  \n",
              "0           257  \n",
              "1           257  \n",
              "2           257  \n",
              "3           257  \n",
              "4           257  "
            ]
          },
          "metadata": {
            "tags": []
          },
          "execution_count": 240
        }
      ]
    },
    {
      "metadata": {
        "id": "vVQl9g92pfNc",
        "colab_type": "code",
        "colab": {}
      },
      "cell_type": "code",
      "source": [
        "import numpy\n",
        "\n",
        "\n",
        "ang = dataset ['anguloEntreRoboTarget']\n",
        "d = dataset ['distancia']\n",
        "senta = dataset ['sa']\n",
        "sentb = dataset ['sb']\n",
        "vet = dataset ['robo_vector']\n",
        "point = dataset ['target_point']\n",
        "\n",
        "indata = dataset.iloc[:,[0, 1, 2, 5, 6, 7, 8]].values\n",
        "outdata = dataset.iloc[:, [3, 4]].values\n"
      ],
      "execution_count": 0,
      "outputs": []
    },
    {
      "metadata": {
        "id": "Txa2vHLSrEXy",
        "colab_type": "code",
        "colab": {
          "base_uri": "https://localhost:8080/",
          "height": 73
        },
        "outputId": "6825c02a-6564-49ac-bc54-58f76cf4530c"
      },
      "cell_type": "code",
      "source": [
        "from sklearn.model_selection import train_test_split\n",
        "X_train, X_test, y_train, y_test = train_test_split(indata, outdata, test_size = 0.2, random_state = 0)\n",
        "\n",
        "\n",
        "# Feature Scaling\n",
        "from sklearn.preprocessing import StandardScaler\n",
        "\n",
        "sc = StandardScaler()\n",
        "X_train = sc.fit_transform(X_train)\n",
        "X_test = sc.transform(X_test)\n"
      ],
      "execution_count": 246,
      "outputs": [
        {
          "output_type": "stream",
          "text": [
            "/usr/local/lib/python3.6/dist-packages/sklearn/utils/validation.py:475: DataConversionWarning: Data with input dtype int64 was converted to float64 by StandardScaler.\n",
            "  warnings.warn(msg, DataConversionWarning)\n"
          ],
          "name": "stderr"
        }
      ]
    },
    {
      "metadata": {
        "id": "mPYQA1jzwR7b",
        "colab_type": "code",
        "colab": {}
      },
      "cell_type": "code",
      "source": [
        "model = Sequential()\n",
        "\n",
        "# Adding the input layer and the first hidden layer\n",
        "model.add(Dense( activation = 'relu', input_dim = 7, units = 460, kernel_initializer = 'uniform'))\n",
        "\n",
        "# Adding the second hidden layer\n",
        "model.add(Dense( activation = 'relu', units = 260, kernel_initializer = 'uniform' ))\n",
        "\n",
        "# Adding the second hidden layer\n",
        "model.add(Dense( activation = 'relu', units = 56, kernel_initializer = 'uniform' ))\n",
        "\n",
        "\n",
        "# Adding the output layer\n",
        "model.add(Dense( activation = 'sigmoid', units = 2, kernel_initializer = 'uniform'))"
      ],
      "execution_count": 0,
      "outputs": []
    },
    {
      "metadata": {
        "id": "5KqptEaVwokZ",
        "colab_type": "code",
        "colab": {}
      },
      "cell_type": "code",
      "source": [
        "model.compile(optimizer = 'adam', loss = 'binary_crossentropy', metrics = ['accuracy'])"
      ],
      "execution_count": 0,
      "outputs": []
    },
    {
      "metadata": {
        "id": "fjH9UA_RyZeE",
        "colab_type": "code",
        "colab": {
          "base_uri": "https://localhost:8080/",
          "height": 1107
        },
        "outputId": "bcd01059-c0f2-4912-dd93-9735850a20b9"
      },
      "cell_type": "code",
      "source": [
        "# Fitting the ANN to the Training set\n",
        "model.fit(X_train, y_train, batch_size = 4, epochs = 30)"
      ],
      "execution_count": 269,
      "outputs": [
        {
          "output_type": "stream",
          "text": [
            "Epoch 1/30\n",
            "370/370 [==============================] - 0s 993us/step - loss: 5.3774e-04 - acc: 1.0000\n",
            "Epoch 2/30\n",
            "370/370 [==============================] - 0s 965us/step - loss: 0.1006 - acc: 0.9838\n",
            "Epoch 3/30\n",
            "370/370 [==============================] - 0s 930us/step - loss: 0.0250 - acc: 0.9919\n",
            "Epoch 4/30\n",
            "370/370 [==============================] - 0s 948us/step - loss: 0.0151 - acc: 0.9946\n",
            "Epoch 5/30\n",
            "370/370 [==============================] - 0s 958us/step - loss: 0.0028 - acc: 1.0000\n",
            "Epoch 6/30\n",
            "370/370 [==============================] - 0s 1ms/step - loss: 0.0026 - acc: 1.0000\n",
            "Epoch 7/30\n",
            "370/370 [==============================] - 1s 1ms/step - loss: 0.0065 - acc: 0.9973\n",
            "Epoch 8/30\n",
            "370/370 [==============================] - 1s 2ms/step - loss: 0.0089 - acc: 0.9973\n",
            "Epoch 9/30\n",
            "370/370 [==============================] - 1s 1ms/step - loss: 0.0104 - acc: 0.9959\n",
            "Epoch 10/30\n",
            "370/370 [==============================] - 1s 1ms/step - loss: 0.0022 - acc: 1.0000\n",
            "Epoch 11/30\n",
            "370/370 [==============================] - 1s 1ms/step - loss: 0.0014 - acc: 1.0000\n",
            "Epoch 12/30\n",
            "370/370 [==============================] - 1s 1ms/step - loss: 0.0010 - acc: 1.0000\n",
            "Epoch 13/30\n",
            "370/370 [==============================] - 1s 1ms/step - loss: 4.7848e-04 - acc: 1.0000\n",
            "Epoch 14/30\n",
            "370/370 [==============================] - 1s 2ms/step - loss: 3.9869e-04 - acc: 1.0000\n",
            "Epoch 15/30\n",
            "370/370 [==============================] - 1s 1ms/step - loss: 3.2853e-04 - acc: 1.0000\n",
            "Epoch 16/30\n",
            "370/370 [==============================] - 1s 1ms/step - loss: 2.3938e-04 - acc: 1.0000\n",
            "Epoch 17/30\n",
            "370/370 [==============================] - 1s 1ms/step - loss: 2.0941e-04 - acc: 1.0000\n",
            "Epoch 18/30\n",
            "370/370 [==============================] - 1s 1ms/step - loss: 1.8674e-04 - acc: 1.0000\n",
            "Epoch 19/30\n",
            "370/370 [==============================] - 1s 1ms/step - loss: 1.4622e-04 - acc: 1.0000\n",
            "Epoch 20/30\n",
            "370/370 [==============================] - 1s 1ms/step - loss: 1.6128e-04 - acc: 1.0000\n",
            "Epoch 21/30\n",
            "370/370 [==============================] - 1s 1ms/step - loss: 1.1641e-04 - acc: 1.0000\n",
            "Epoch 22/30\n",
            "370/370 [==============================] - 1s 1ms/step - loss: 1.1914e-04 - acc: 1.0000\n",
            "Epoch 23/30\n",
            "370/370 [==============================] - 0s 1ms/step - loss: 1.0362e-04 - acc: 1.0000\n",
            "Epoch 24/30\n",
            "370/370 [==============================] - 0s 921us/step - loss: 8.6310e-05 - acc: 1.0000\n",
            "Epoch 25/30\n",
            "370/370 [==============================] - 0s 971us/step - loss: 8.0728e-05 - acc: 1.0000\n",
            "Epoch 26/30\n",
            "370/370 [==============================] - 0s 970us/step - loss: 7.5732e-05 - acc: 1.0000\n",
            "Epoch 27/30\n",
            "370/370 [==============================] - 0s 941us/step - loss: 6.6574e-05 - acc: 1.0000\n",
            "Epoch 28/30\n",
            "370/370 [==============================] - 0s 953us/step - loss: 5.7526e-05 - acc: 1.0000\n",
            "Epoch 29/30\n",
            "370/370 [==============================] - 0s 946us/step - loss: 5.5303e-05 - acc: 1.0000\n",
            "Epoch 30/30\n",
            "370/370 [==============================] - 0s 911us/step - loss: 4.6777e-05 - acc: 1.0000\n"
          ],
          "name": "stdout"
        },
        {
          "output_type": "execute_result",
          "data": {
            "text/plain": [
              "<keras.callbacks.History at 0x7fa883638630>"
            ]
          },
          "metadata": {
            "tags": []
          },
          "execution_count": 269
        }
      ]
    },
    {
      "metadata": {
        "id": "XrsW5X3gS-0Z",
        "colab_type": "code",
        "colab": {
          "base_uri": "https://localhost:8080/",
          "height": 35
        },
        "outputId": "ff6c4df9-107e-43ca-b0a1-dfa9bd8a3cd8"
      },
      "cell_type": "code",
      "source": [
        "score = model.evaluate(X_test, y_test, batch_size=4)"
      ],
      "execution_count": 270,
      "outputs": [
        {
          "output_type": "stream",
          "text": [
            "93/93 [==============================] - 0s 402us/step\n"
          ],
          "name": "stdout"
        }
      ]
    },
    {
      "metadata": {
        "id": "mDPeJTphWUsF",
        "colab_type": "code",
        "colab": {}
      },
      "cell_type": "code",
      "source": [
        ""
      ],
      "execution_count": 0,
      "outputs": []
    },
    {
      "metadata": {
        "id": "OMLMNWHJWU__",
        "colab_type": "code",
        "colab": {}
      },
      "cell_type": "code",
      "source": [
        ""
      ],
      "execution_count": 0,
      "outputs": []
    }
  ]
}